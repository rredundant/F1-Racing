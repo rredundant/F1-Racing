{
 "cells": [
  {
   "cell_type": "code",
   "execution_count": 1,
   "metadata": {},
   "outputs": [],
   "source": [
    "import warnings\n",
    "warnings.filterwarnings(\"ignore\")\n",
    "import requests\n",
    "import pandas as pd\n",
    "import numpy as np\n",
    "\n",
    "def get_race_result(season_number, year ):\n",
    "    api = 'http://ergast.com/api/f1/{}/{}/qualifying.json'.format(year, season_number)\n",
    "    data = requests.get(api).json()\n",
    "    temp_df =  pd.DataFrame.from_records(data.get('MRData').get('RaceTable').get('Races')[0].get('QualifyingResults'))\n",
    "    temp_df['seasonNbr'] = season_number\n",
    "    temp_df['year'] = year\n",
    "    return temp_df\n",
    "\n",
    "results = []\n",
    "seasons = np.arange(2003,2018,1)\n",
    "rounds = np.arange(1,15,1)\n",
    "for s in seasons:\n",
    "    for r in rounds:\n",
    "        result = get_race_result(r, s)\n",
    "        results.append(result)\n",
    "\n",
    "out = pd.concat(results, axis=0)\n",
    "out['driver_id']=out.Driver.map(lambda x: x.get('driverId'))\n",
    "out['car_make']=out.Constructor.map(lambda x: x.get('name'))\n",
    "out['driver_nat']=out.Driver.map(lambda x: x.get('nationality'))"
   ]
  },
  {
   "cell_type": "code",
   "execution_count": 2,
   "metadata": {},
   "outputs": [],
   "source": [
    "df=out[['driver_id','year','seasonNbr','position','car_make','driver_nat']]"
   ]
  },
  {
   "cell_type": "code",
   "execution_count": 3,
   "metadata": {},
   "outputs": [],
   "source": [
    "def get_race_results(season_number, year ):\n",
    "    api_1 = 'http://ergast.com/api/f1/{}/{}/results.json'.format(year, season_number)\n",
    "    data_1 = requests.get(api_1).json()\n",
    "                                         #resp.get('MRData').get('RaceTable').get('Races')[0].get('Results')\n",
    "    temp_df_1 =  pd.DataFrame.from_records(data_1.get('MRData').get('RaceTable').get('Races')[0].get('Results'))\n",
    "    circuit_1=data_1.get('MRData').get('RaceTable').get('Races')[0].get('Circuit')\n",
    "    temp_df_1['circuit_name']=circuit_1.get('circuitName')\n",
    "    temp_df_1['seasonNbr'] = season_number\n",
    "    temp_df_1['year'] = year\n",
    "    return temp_df_1\n",
    "\n",
    "results_1 = []\n",
    "seasons_1 = np.arange(2003,2018,1)\n",
    "rounds_1 = np.arange(1,15,1)\n",
    "for s in seasons_1:\n",
    "    for r in rounds_1:\n",
    "        result_1 = get_race_results(r, s)\n",
    "        results_1.append(result_1)\n",
    "\n",
    "outs = pd.concat(results_1, axis=0)\n",
    "outs['driver_id']=outs.Driver.map(lambda x: x.get('driverId'))\n",
    "outs['car_make']=outs.Constructor.map(lambda x: x.get('name'))\n",
    "outs['driver_nat']=outs.Driver.map(lambda x: x.get('nationality'))\\\n",
    "\n",
    "df_1=outs[['driver_id','year','seasonNbr','position','car_make','driver_nat']]\n",
    "\n"
   ]
  },
  {
   "cell_type": "code",
   "execution_count": 43,
   "metadata": {},
   "outputs": [],
   "source": [
    "# qual=df.loc[df['position'].isin(['1','2','3','4','5'])]\n",
    "# race=df_1.loc[df_1['position'].isin(['1','2','3','4','5'])]\n",
    "# hope=pd.concat([qual,race],axis=1)\n",
    "# cold=hope[['driver_id','position','year']]\n",
    "# cold.columns=['driver_race','driver_qual','pos_race','pos_qual','year1','year2']\n",
    "# cold['pos_race']=cold['pos_race'].astype(int)\n",
    "# cold['pos_qual']=cold['pos_qual'].astype(int)\n",
    "# cold\n",
    "# print(len(cold.loc[(cold['driver_race'] ==cold['driver_qual'])&(cold['pos_race']==1)]))\n",
    "# print(len(cold.loc[(cold['driver_race'] ==cold['driver_qual'])&(cold['pos_race']==2)]))\n",
    "# print(len(cold.loc[(cold['driver_race'] ==cold['driver_qual'])&(cold['pos_race']==3)]))\n",
    "# print(len(cold.loc[(cold['driver_race'] ==cold['driver_qual'])&(cold['pos_race']==4)]))\n",
    "# print(len(cold.loc[(cold['driver_race'] ==cold['driver_qual'])&(cold['pos_race']==5)]))"
   ]
  },
  {
   "cell_type": "code",
   "execution_count": 5,
   "metadata": {},
   "outputs": [],
   "source": [
    "# join on driver_id, year, seasonNbrear\n",
    "new_df = pd.merge(df, df_1,  how='outer', \n",
    "                  left_on=['driver_id','year', 'seasonNbr'], \n",
    "                  right_on = ['driver_id','year', 'seasonNbr'],\n",
    "                 suffixes=('qual', 'actual')) # what frame the col came from since they have similar names"
   ]
  },
  {
   "cell_type": "code",
   "execution_count": 6,
   "metadata": {},
   "outputs": [],
   "source": [
    "# for any rows where position actual is in [1,2,3]. what is qual position?\n",
    "from collections import Counter\n",
    "\n",
    "# c = Counter(l)\n",
    "# [(i, c[i] / len(l) * 100.0) for i in c]\n",
    "\n",
    "def compute_pcts(positions_list):\n",
    "    c = Counter(positions_list)\n",
    "    return [(i, c[i] / len(positions_list) * 100.0) for i in c]\n",
    "\n",
    "\n",
    "# now for each elementi n the list i would like a dict of the position and its frequency\n",
    "\n",
    "outd = new_df.groupby('positionqual')['positionactual'].apply(list).to_frame()\n",
    "outd['pct_occ'] = outd.positionactual.map(compute_pcts)\n",
    "\n",
    "\n",
    "temp = outd.reset_index().sort_values(by='positionqual')\n",
    "temp.positionqual = temp.positionqual.astype(int)\n",
    "temp.sort_values(by='positionqual', inplace=True)"
   ]
  },
  {
   "cell_type": "code",
   "execution_count": 20,
   "metadata": {},
   "outputs": [
    {
     "name": "stdout",
     "output_type": "stream",
     "text": [
      "Qual Pos 1 | Race Pos 1 | 53.333333333333336\n",
      "Qual Pos 1 | Race Pos 2 | 15.714285714285714\n",
      "Qual Pos 1 | Race Pos 3 | 10.0\n",
      "79.04761904761905\n",
      "\n",
      "Qual Pos 2 | Race Pos 1 | 21.428571428571427\n",
      "Qual Pos 2 | Race Pos 2 | 20.952380952380953\n",
      "Qual Pos 2 | Race Pos 3 | 15.714285714285714\n",
      "58.095238095238095\n",
      "\n",
      "Qual Pos 3 | Race Pos 2 | 20.476190476190474\n",
      "Qual Pos 3 | Race Pos 3 | 17.142857142857142\n",
      "Qual Pos 3 | Race Pos 1 | 10.0\n",
      "47.61904761904762\n",
      "\n",
      "Qual Pos 4 | Race Pos 2 | 14.285714285714285\n",
      "Qual Pos 4 | Race Pos 3 | 12.857142857142856\n",
      "Qual Pos 4 | Race Pos 1 | 5.238095238095238\n",
      "32.38095238095238\n",
      "\n",
      "Qual Pos 5 | Race Pos 3 | 12.857142857142856\n",
      "Qual Pos 5 | Race Pos 2 | 9.047619047619047\n",
      "Qual Pos 5 | Race Pos 1 | 2.857142857142857\n",
      "24.761904761904763\n",
      "\n",
      "Qual Pos 6 | Race Pos 3 | 10.476190476190476\n",
      "Qual Pos 6 | Race Pos 2 | 4.761904761904762\n",
      "Qual Pos 6 | Race Pos 1 | 2.380952380952381\n",
      "17.619047619047617\n",
      "\n",
      "Qual Pos 7 | Race Pos 2 | 5.238095238095238\n",
      "Qual Pos 7 | Race Pos 3 | 4.285714285714286\n",
      "Qual Pos 7 | Race Pos 1 | 1.9047619047619049\n",
      "11.428571428571429\n",
      "\n",
      "Qual Pos 8 | Race Pos 3 | 3.3333333333333335\n",
      "Qual Pos 8 | Race Pos 2 | 0.9523809523809524\n",
      "Qual Pos 8 | Race Pos 1 | 0.4761904761904762\n",
      "4.761904761904762\n",
      "\n",
      "Qual Pos 9 | Race Pos 2 | 2.380952380952381\n",
      "Qual Pos 9 | Race Pos 3 | 0.4761904761904762\n",
      "Qual Pos 9 | Race Pos 1 | 0.4761904761904762\n",
      "3.3333333333333335\n",
      "\n",
      "Qual Pos 10 | Race Pos 3 | 2.857142857142857\n",
      "Qual Pos 10 | Race Pos 2 | 1.9047619047619049\n",
      "Qual Pos 10 | Race Pos 1 | 0.9523809523809524\n",
      "5.714285714285714\n",
      "\n",
      "Qual Pos 11 | Race Pos 2 | 1.9047619047619049\n",
      "Qual Pos 11 | Race Pos 3 | 1.9047619047619049\n",
      "Qual Pos 11 | Race Pos 1 | 0.9523809523809524\n",
      "4.761904761904762\n",
      "\n",
      "Qual Pos 12 | Race Pos 3 | 0.4761904761904762\n",
      "0.4761904761904762\n",
      "\n",
      "Qual Pos 13 | Race Pos 3 | 1.9047619047619049\n",
      "Qual Pos 13 | Race Pos 2 | 0.4761904761904762\n",
      "2.380952380952381\n",
      "\n",
      "Qual Pos 14 | Race Pos 2 | 0.4761904761904762\n",
      "0.4761904761904762\n",
      "\n",
      "Qual Pos 15 | Race Pos 3 | 0.9523809523809524\n",
      "0.9523809523809524\n",
      "\n",
      "Qual Pos 16 | Race Pos 3 | 0.9523809523809524\n",
      "0.9523809523809524\n",
      "\n",
      "Qual Pos 17 | Race Pos 2 | 0.9523809523809524\n",
      "Qual Pos 17 | Race Pos 3 | 0.4761904761904762\n",
      "1.4285714285714286\n",
      "\n",
      "Qual Pos 18 | Race Pos 3 | 0.4761904761904762\n",
      "0.4761904761904762\n",
      "\n",
      "Qual Pos 19 | Race Pos 3 | 0.966183574879227\n",
      "Qual Pos 19 | Race Pos 2 | 0.4830917874396135\n",
      "1.4492753623188406\n",
      "\n",
      "Qual Pos 20 | Race Pos 3 | 0.49261083743842365\n",
      "0.49261083743842365\n",
      "\n",
      "Qual Pos 21 | Race Pos 3 | 1.7241379310344827\n",
      "1.7241379310344827\n",
      "\n",
      "Qual Pos 22 | Race Pos 3 | 0.8928571428571428\n",
      "0.8928571428571428\n",
      "\n",
      "0\n",
      "\n",
      "0\n",
      "\n"
     ]
    }
   ],
   "source": [
    "idk=[]\n",
    "snow=[]\n",
    "for index, row in temp.iterrows():\n",
    "    temp_var = 0\n",
    "    for race_pos, pct_outcome in sorted(row.pct_occ, key=lambda x: x[1], reverse=True):\n",
    "        if eval(race_pos) < 4:\n",
    "            print(\"Qual Pos\", row.positionqual, \"|\", \"Race Pos\", race_pos, \"|\", pct_outcome)\n",
    "            snw=(\"Qual Pos\", row.positionqual, \"|\", \"Race Pos\", race_pos, \"|\", pct_outcome)\n",
    "            temp_var += pct_outcome\n",
    "    idk.append(temp_var)\n",
    "    snow.append(snw)\n",
    "    print(temp_var)\n",
    "    print()"
   ]
  },
  {
   "cell_type": "code",
   "execution_count": 18,
   "metadata": {},
   "outputs": [
    {
     "name": "stdout",
     "output_type": "stream",
     "text": [
      "<BarContainer object of 24 artists>\n"
     ]
    },
    {
     "data": {
      "image/png": "[encoded data removed]",
      "text/plain": [
       "<Figure size 432x288 with 1 Axes>"
      ]
     },
     "metadata": {
      "needs_background": "light"
     },
     "output_type": "display_data"
    }
   ],
   "source": [
    "import matplotlib.pyplot as plt\n",
    "print(plt.bar(temp['positionqual'],idk))\n",
    "plt.xlabel('Qualifying position')\n",
    "plt.ylabel('% finish top 3')\n",
    "plt.title('Qualifying Position vs. Top 3 Finish %')\n",
    "plt.savefig('Top_3.png')"
   ]
  },
  {
   "cell_type": "code",
   "execution_count": 17,
   "metadata": {},
   "outputs": [
    {
     "name": "stdout",
     "output_type": "stream",
     "text": [
      "Qual Pos 1 | Race Pos 1 | 53.333333333333336\n",
      "\n",
      "Qual Pos 2 | Race Pos 1 | 21.428571428571427\n",
      "\n",
      "Qual Pos 3 | Race Pos 1 | 10.0\n",
      "\n",
      "Qual Pos 4 | Race Pos 1 | 5.238095238095238\n",
      "\n",
      "Qual Pos 5 | Race Pos 1 | 2.857142857142857\n",
      "\n",
      "Qual Pos 6 | Race Pos 1 | 2.380952380952381\n",
      "\n",
      "Qual Pos 7 | Race Pos 1 | 1.9047619047619049\n",
      "\n",
      "Qual Pos 8 | Race Pos 1 | 0.4761904761904762\n",
      "\n",
      "Qual Pos 9 | Race Pos 1 | 0.4761904761904762\n",
      "\n",
      "Qual Pos 10 | Race Pos 1 | 0.9523809523809524\n",
      "\n",
      "Qual Pos 11 | Race Pos 1 | 0.9523809523809524\n",
      "\n",
      "\n",
      "\n",
      "\n",
      "\n",
      "\n",
      "\n",
      "\n",
      "\n",
      "\n",
      "\n",
      "\n",
      "\n",
      "\n"
     ]
    }
   ],
   "source": [
    "ik=[]\n",
    "for index, row in temp.iterrows():\n",
    "    temp_var_1 = 0\n",
    "    for race_pos, pct_outcome in sorted(row.pct_occ, key=lambda x: x[1], reverse=True):\n",
    "        if eval(race_pos) < 2:\n",
    "            print(\"Qual Pos\", row.positionqual, \"|\", \"Race Pos\", race_pos, \"|\", pct_outcome)\n",
    "            #temp_var += pct_outcome\n",
    "            ik.append(pct_outcome)\n",
    "    #print(temp_var)\n",
    "    print()\n"
   ]
  },
  {
   "cell_type": "code",
   "execution_count": 19,
   "metadata": {},
   "outputs": [
    {
     "data": {
      "image/png": "[encoded data removed]",
      "text/plain": [
       "<Figure size 432x288 with 1 Axes>"
      ]
     },
     "metadata": {
      "needs_background": "light"
     },
     "output_type": "display_data"
    }
   ],
   "source": [
    "num=[1,2,3,4,5,6,7,8,9,10,11]\n",
    "plt.bar(num,ik)\n",
    "plt.xlabel('Qualifying position')\n",
    "plt.ylabel('% win')\n",
    "plt.xlim(0, 24)\n",
    "plt.title('Qualifying Position vs. Win %')\n",
    "plt.savefig('Win%.png')"
   ]
  },
  {
   "cell_type": "code",
   "execution_count": null,
   "metadata": {},
   "outputs": [],
   "source": []
  }
 ],
 "metadata": {
  "kernelspec": {
   "display_name": "Python 3",
   "language": "python",
   "name": "python3"
  },
  "language_info": {
   "codemirror_mode": {
    "name": "ipython",
    "version": 3
   },
   "file_extension": ".py",
   "mimetype": "text/x-python",
   "name": "python",
   "nbconvert_exporter": "python",
   "pygments_lexer": "ipython3",
   "version": "3.7.0"
  }
 },
 "nbformat": 4,
 "nbformat_minor": 2
}
